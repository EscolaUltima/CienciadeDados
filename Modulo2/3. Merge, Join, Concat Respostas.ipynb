{
  "cells": [
    {
      "cell_type": "markdown",
      "id": "03abee5a",
      "metadata": {
        "id": "03abee5a"
      },
      "source": [
        "Sempre que temos dois DataFrames diferentes e queremos combiná-los em um, temos que dizer ao Pandas duas coisas principais:\n",
        "\n",
        "   -  Qual é a coluna que você deseja mesclar? Em termos mais simples, quais valores ele deve tentar corresponder ao fazer uma fusão.\n",
        "   -  Se houver um valor em um DataFrame, mas não no outro, como você deseja mesclar? Você quer mantê-lo, largue-o?\n",
        "\n",
        "Em termos técnicos, isso significa que precisamos dizer ao Pandas qual chave de junção fazer a fusão e como fazer a fusão. Vamos dar uma olhada em nosso caso a seguir. Temos dois dataframes que desejamos fundir. "
      ]
    },
    {
      "cell_type": "code",
      "execution_count": null,
      "id": "9aa38f96",
      "metadata": {
        "id": "9aa38f96"
      },
      "outputs": [],
      "source": [
        "import pandas as pd"
      ]
    },
    {
      "cell_type": "code",
      "execution_count": null,
      "id": "e2e1c01c",
      "metadata": {
        "id": "e2e1c01c",
        "outputId": "9cb4e937-0b5d-403b-e50f-cbb9eb0c5d2c"
      },
      "outputs": [
        {
          "data": {
            "text/html": [
              "<div>\n",
              "<style scoped>\n",
              "    .dataframe tbody tr th:only-of-type {\n",
              "        vertical-align: middle;\n",
              "    }\n",
              "\n",
              "    .dataframe tbody tr th {\n",
              "        vertical-align: top;\n",
              "    }\n",
              "\n",
              "    .dataframe thead th {\n",
              "        text-align: right;\n",
              "    }\n",
              "</style>\n",
              "<table border=\"1\" class=\"dataframe\">\n",
              "  <thead>\n",
              "    <tr style=\"text-align: right;\">\n",
              "      <th></th>\n",
              "      <th>employee</th>\n",
              "      <th>group</th>\n",
              "    </tr>\n",
              "  </thead>\n",
              "  <tbody>\n",
              "    <tr>\n",
              "      <th>0</th>\n",
              "      <td>Bob</td>\n",
              "      <td>Accounting</td>\n",
              "    </tr>\n",
              "    <tr>\n",
              "      <th>1</th>\n",
              "      <td>Jake</td>\n",
              "      <td>Engineering</td>\n",
              "    </tr>\n",
              "    <tr>\n",
              "      <th>2</th>\n",
              "      <td>Lisa</td>\n",
              "      <td>Engineering</td>\n",
              "    </tr>\n",
              "    <tr>\n",
              "      <th>3</th>\n",
              "      <td>Sue</td>\n",
              "      <td>HR</td>\n",
              "    </tr>\n",
              "  </tbody>\n",
              "</table>\n",
              "</div>"
            ],
            "text/plain": [
              "  employee        group\n",
              "0      Bob   Accounting\n",
              "1     Jake  Engineering\n",
              "2     Lisa  Engineering\n",
              "3      Sue           HR"
            ]
          },
          "metadata": {},
          "output_type": "display_data"
        },
        {
          "data": {
            "text/html": [
              "<div>\n",
              "<style scoped>\n",
              "    .dataframe tbody tr th:only-of-type {\n",
              "        vertical-align: middle;\n",
              "    }\n",
              "\n",
              "    .dataframe tbody tr th {\n",
              "        vertical-align: top;\n",
              "    }\n",
              "\n",
              "    .dataframe thead th {\n",
              "        text-align: right;\n",
              "    }\n",
              "</style>\n",
              "<table border=\"1\" class=\"dataframe\">\n",
              "  <thead>\n",
              "    <tr style=\"text-align: right;\">\n",
              "      <th></th>\n",
              "      <th>employee</th>\n",
              "      <th>hire_date</th>\n",
              "    </tr>\n",
              "  </thead>\n",
              "  <tbody>\n",
              "    <tr>\n",
              "      <th>0</th>\n",
              "      <td>Lisa</td>\n",
              "      <td>2004</td>\n",
              "    </tr>\n",
              "    <tr>\n",
              "      <th>1</th>\n",
              "      <td>Bob</td>\n",
              "      <td>2008</td>\n",
              "    </tr>\n",
              "    <tr>\n",
              "      <th>2</th>\n",
              "      <td>Jake</td>\n",
              "      <td>2012</td>\n",
              "    </tr>\n",
              "    <tr>\n",
              "      <th>3</th>\n",
              "      <td>Sue</td>\n",
              "      <td>2014</td>\n",
              "    </tr>\n",
              "  </tbody>\n",
              "</table>\n",
              "</div>"
            ],
            "text/plain": [
              "  employee  hire_date\n",
              "0     Lisa       2004\n",
              "1      Bob       2008\n",
              "2     Jake       2012\n",
              "3      Sue       2014"
            ]
          },
          "metadata": {},
          "output_type": "display_data"
        }
      ],
      "source": [
        "df1 = pd.DataFrame({'employee': ['Bob', 'Jake', 'Lisa', 'Sue'],\n",
        "                    'group': ['Accounting', 'Engineering', 'Engineering', 'HR']})\n",
        "df2 = pd.DataFrame({'employee': ['Lisa', 'Bob', 'Jake', 'Sue'],\n",
        "                    'hire_date': [2004, 2008, 2012, 2014]})\n",
        "display(df1, df2)"
      ]
    },
    {
      "cell_type": "markdown",
      "id": "7ed81ece",
      "metadata": {
        "id": "7ed81ece"
      },
      "source": [
        "#### 1. Combine os dois dataframes utilizando `pd.merge()`"
      ]
    },
    {
      "cell_type": "code",
      "source": [
        ""
      ],
      "metadata": {
        "id": "WdjzDbqtOete"
      },
      "id": "WdjzDbqtOete",
      "execution_count": null,
      "outputs": []
    },
    {
      "cell_type": "code",
      "execution_count": null,
      "id": "3191a365",
      "metadata": {
        "id": "3191a365"
      },
      "outputs": [],
      "source": [
        "raw_data_1 = {\n",
        "        'subject_id': ['1', '2', '3', '4', '5'],\n",
        "        'first_name': ['Alex', 'Amy', 'Allen', 'Alice', 'Ayoung'], \n",
        "        'last_name': ['Anderson', 'Ackerman', 'Ali', 'Aoni', 'Atiches']}\n",
        "\n",
        "raw_data_2 = {\n",
        "        'subject_id': ['4', '5', '6', '7', '8'],\n",
        "        'first_name': ['Billy', 'Brian', 'Bran', 'Bryce', 'Betty'], \n",
        "        'last_name': ['Bonder', 'Black', 'Balwner', 'Brice', 'Btisan']}\n",
        "\n",
        "raw_data_3 = {\n",
        "        'subject_id': ['1', '2', '3', '4', '5', '7', '8', '9', '10', '11'],\n",
        "        'test_id': [51, 15, 15, 61, 16, 14, 15, 1, 61, 16]}"
      ]
    },
    {
      "cell_type": "markdown",
      "id": "ae4811df",
      "metadata": {
        "id": "ae4811df"
      },
      "source": [
        "#### 2. Crie três dataframes com os dicionários acima"
      ]
    },
    {
      "cell_type": "markdown",
      "id": "ffc1333e",
      "metadata": {
        "id": "ffc1333e"
      },
      "source": [
        "#### 3. Junte os dois primeiros dataframes ao longo das linhas e atribua"
      ]
    },
    {
      "cell_type": "markdown",
      "id": "b5e46ca0",
      "metadata": {
        "id": "b5e46ca0"
      },
      "source": [
        "#### 4. Junte os dois dataframes ao longo das colunas e atribua a todas as colunas de dados"
      ]
    },
    {
      "cell_type": "markdown",
      "id": "0a6d31e8",
      "metadata": {
        "id": "0a6d31e8"
      },
      "source": [
        "#### 5. Dê um `merge` nestes dois últimos dataframes ao longo da variável `subject_id`"
      ]
    },
    {
      "cell_type": "markdown",
      "id": "c1514c92",
      "metadata": {
        "id": "c1514c92"
      },
      "source": [
        "#### 6. Mescle apenas os dados que têm o mesmo `subject_id` em data1 e data2 "
      ]
    },
    {
      "cell_type": "code",
      "execution_count": null,
      "id": "3e21b446",
      "metadata": {
        "id": "3e21b446"
      },
      "outputs": [],
      "source": [
        ""
      ]
    }
  ],
  "metadata": {
    "kernelspec": {
      "display_name": "Python 3",
      "language": "python",
      "name": "python3"
    },
    "language_info": {
      "codemirror_mode": {
        "name": "ipython",
        "version": 3
      },
      "file_extension": ".py",
      "mimetype": "text/x-python",
      "name": "python",
      "nbconvert_exporter": "python",
      "pygments_lexer": "ipython3",
      "version": "3.6.9"
    },
    "colab": {
      "name": "3. Merge, Join, Concat - Respostas.ipynb",
      "provenance": []
    }
  },
  "nbformat": 4,
  "nbformat_minor": 5
}