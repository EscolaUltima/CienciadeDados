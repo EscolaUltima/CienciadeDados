{
 "cells": [
  {
   "cell_type": "markdown",
   "id": "994cbba7",
   "metadata": {},
   "source": [
    "### Detectando valores ausentes\n",
    "\n",
    "Uma vez que cada conjunto de dados terá seus próprios problemas que precisam ser resolvidos. Estaremos usando conjuntos de dados diferentes para explicar os diferentes conceitos por trás da limpeza de dados. Como cientista de dados, 80% do seu tempo será gasto na limpeza de dados, o que às vezes pode ser muito frustrante. É também o processo que será diferente a cada vez que você fizer isso.\n",
    "\n",
    "A primeira etapa para qualquer limpeza de dados é encontrar e lidar com quaisquer valores ausentes. "
   ]
  },
  {
   "cell_type": "code",
   "execution_count": 1,
   "id": "85fe0abf",
   "metadata": {},
   "outputs": [],
   "source": [
    "import pandas as pd\n",
    "import numpy as np"
   ]
  },
  {
   "cell_type": "code",
   "execution_count": 2,
   "id": "725cd72f",
   "metadata": {},
   "outputs": [
    {
     "data": {
      "text/html": [
       "<div>\n",
       "<style scoped>\n",
       "    .dataframe tbody tr th:only-of-type {\n",
       "        vertical-align: middle;\n",
       "    }\n",
       "\n",
       "    .dataframe tbody tr th {\n",
       "        vertical-align: top;\n",
       "    }\n",
       "\n",
       "    .dataframe thead th {\n",
       "        text-align: right;\n",
       "    }\n",
       "</style>\n",
       "<table border=\"1\" class=\"dataframe\">\n",
       "  <thead>\n",
       "    <tr style=\"text-align: right;\">\n",
       "      <th></th>\n",
       "      <th>PID</th>\n",
       "      <th>ST_NUM</th>\n",
       "      <th>ST_NAME</th>\n",
       "      <th>OWN_OCCUPIED</th>\n",
       "      <th>NUM_BEDROOMS</th>\n",
       "      <th>NUM_BATH</th>\n",
       "      <th>SQ_FT</th>\n",
       "    </tr>\n",
       "  </thead>\n",
       "  <tbody>\n",
       "    <tr>\n",
       "      <th>0</th>\n",
       "      <td>100001000.0</td>\n",
       "      <td>104.0</td>\n",
       "      <td>PUTNAM</td>\n",
       "      <td>Y</td>\n",
       "      <td>3</td>\n",
       "      <td>1</td>\n",
       "      <td>1000</td>\n",
       "    </tr>\n",
       "    <tr>\n",
       "      <th>1</th>\n",
       "      <td>100002000.0</td>\n",
       "      <td>197.0</td>\n",
       "      <td>LEXINGTON</td>\n",
       "      <td>N</td>\n",
       "      <td>3</td>\n",
       "      <td>1.5</td>\n",
       "      <td>--</td>\n",
       "    </tr>\n",
       "    <tr>\n",
       "      <th>2</th>\n",
       "      <td>100003000.0</td>\n",
       "      <td>NaN</td>\n",
       "      <td>LEXINGTON</td>\n",
       "      <td>N</td>\n",
       "      <td>NaN</td>\n",
       "      <td>1</td>\n",
       "      <td>850</td>\n",
       "    </tr>\n",
       "    <tr>\n",
       "      <th>3</th>\n",
       "      <td>100004000.0</td>\n",
       "      <td>201.0</td>\n",
       "      <td>BERKELEY</td>\n",
       "      <td>12</td>\n",
       "      <td>1</td>\n",
       "      <td>NaN</td>\n",
       "      <td>700</td>\n",
       "    </tr>\n",
       "    <tr>\n",
       "      <th>4</th>\n",
       "      <td>NaN</td>\n",
       "      <td>203.0</td>\n",
       "      <td>BERKELEY</td>\n",
       "      <td>Y</td>\n",
       "      <td>3</td>\n",
       "      <td>2</td>\n",
       "      <td>1600</td>\n",
       "    </tr>\n",
       "    <tr>\n",
       "      <th>5</th>\n",
       "      <td>100006000.0</td>\n",
       "      <td>207.0</td>\n",
       "      <td>BERKELEY</td>\n",
       "      <td>Y</td>\n",
       "      <td>NaN</td>\n",
       "      <td>1</td>\n",
       "      <td>800</td>\n",
       "    </tr>\n",
       "    <tr>\n",
       "      <th>6</th>\n",
       "      <td>100007000.0</td>\n",
       "      <td>NaN</td>\n",
       "      <td>WASHINGTON</td>\n",
       "      <td>NaN</td>\n",
       "      <td>2</td>\n",
       "      <td>HURLEY</td>\n",
       "      <td>950</td>\n",
       "    </tr>\n",
       "    <tr>\n",
       "      <th>7</th>\n",
       "      <td>100008000.0</td>\n",
       "      <td>213.0</td>\n",
       "      <td>TREMONT</td>\n",
       "      <td>Y</td>\n",
       "      <td>1</td>\n",
       "      <td>1</td>\n",
       "      <td>NaN</td>\n",
       "    </tr>\n",
       "    <tr>\n",
       "      <th>8</th>\n",
       "      <td>100009000.0</td>\n",
       "      <td>215.0</td>\n",
       "      <td>TREMONT</td>\n",
       "      <td>Y</td>\n",
       "      <td>na</td>\n",
       "      <td>2</td>\n",
       "      <td>1800</td>\n",
       "    </tr>\n",
       "  </tbody>\n",
       "</table>\n",
       "</div>"
      ],
      "text/plain": [
       "           PID  ST_NUM     ST_NAME OWN_OCCUPIED NUM_BEDROOMS NUM_BATH SQ_FT\n",
       "0  100001000.0   104.0      PUTNAM            Y            3        1  1000\n",
       "1  100002000.0   197.0   LEXINGTON            N            3      1.5    --\n",
       "2  100003000.0     NaN   LEXINGTON            N          NaN        1   850\n",
       "3  100004000.0   201.0    BERKELEY           12            1      NaN   700\n",
       "4          NaN   203.0    BERKELEY            Y            3        2  1600\n",
       "5  100006000.0   207.0    BERKELEY            Y          NaN        1   800\n",
       "6  100007000.0     NaN  WASHINGTON          NaN            2   HURLEY   950\n",
       "7  100008000.0   213.0     TREMONT            Y            1        1   NaN\n",
       "8  100009000.0   215.0     TREMONT            Y           na        2  1800"
      ]
     },
     "execution_count": 2,
     "metadata": {},
     "output_type": "execute_result"
    }
   ],
   "source": [
    "df = pd.read_csv('property_data.csv')\n",
    "\n",
    "df.head(10)"
   ]
  },
  {
   "cell_type": "markdown",
   "id": "d9eed90f",
   "metadata": {},
   "source": [
    "Este é um conjunto de dados bastante pequeno com o qual estamos começando, mas você já pode ver que tem alguns problemas. A primeira etapa é tentar descobrir o que cada coluna significa e o que você deve esperar que as colunas sejam.\n",
    "\n",
    "     ST_NUM: soa como o número da rua e deve ser um tipo de dado numérico\n",
    "     ST_NAME: nome da rua? Deve ser uma string\n",
    "     OWN_OCCUPIED: A residência está ocupada ou não? Deve ser algum tipo de valor booleano\n",
    "     NUM_BEDROOMS: o número de quartos. Este também deve ser um tipo de dado numérico\n",
    "\n",
    "Você pode fazer isso para todas as colunas. Às vezes, o conjunto de dados pode ser muito grande e você pode não ser capaz de olhar para cada coluna, então você precisa agrupar algumas colunas e analisá-las lentamente. Independentemente disso, você deve saber o que cada coluna em seu conjunto de dados representa e qual deve ser o tipo de dados "
   ]
  },
  {
   "cell_type": "markdown",
   "id": "429dd3aa",
   "metadata": {},
   "source": [
    "## Valores padrão ausentes "
   ]
  },
  {
   "cell_type": "markdown",
   "id": "ff7628d1",
   "metadata": {},
   "source": [
    "Você notará que existem alguns valores no DataFrame que são NaN. Isso ocorre porque se houver um valor ausente no arquivo CSV, ou se o valor for NA, o Pandas automaticamente infere que é um valor ausente e o preenche com NaN. NaN significa não um número. Vejamos a soma de todos os valores ausentes em cada coluna usando a seguinte função "
   ]
  },
  {
   "cell_type": "markdown",
   "id": "8597d3bc",
   "metadata": {},
   "source": [
    "#### 1. Cheque quantos valores nuloes existem em cada coluna"
   ]
  },
  {
   "cell_type": "code",
   "execution_count": 3,
   "id": "b786c9dd",
   "metadata": {},
   "outputs": [
    {
     "data": {
      "text/plain": [
       "PID             1\n",
       "ST_NUM          2\n",
       "ST_NAME         0\n",
       "OWN_OCCUPIED    1\n",
       "NUM_BEDROOMS    2\n",
       "NUM_BATH        1\n",
       "SQ_FT           1\n",
       "dtype: int64"
      ]
     },
     "execution_count": 3,
     "metadata": {},
     "output_type": "execute_result"
    }
   ],
   "source": [
    "#coloque aqui o resultado\n",
    "df.isnull().sum()"
   ]
  },
  {
   "cell_type": "markdown",
   "id": "0b0b41fd",
   "metadata": {},
   "source": [
    "Se você olhar de perto, verá que há mais problemas aqui. Vamos tentar mergulhar um pouco mais fundo em alguns deles. A melhor maneira de começar a explorar os diferentes problemas é tentar descobrir quais são os diferentes valores em cada coluna. Uma boa maneira de fazer isso é usar a função `.value_counts()` para descobrir quais valores únicos estão em cada coluna. O parâmetro dropna controla se irá descartar os valores NaN ou não. Já que queremos vê-los, vamos torná-lo falso "
   ]
  },
  {
   "cell_type": "markdown",
   "id": "b3299d57",
   "metadata": {},
   "source": [
    "#### 2. Use a função `value_counts()` em cada coluna do dataframe"
   ]
  },
  {
   "cell_type": "code",
   "execution_count": 4,
   "id": "afba528e",
   "metadata": {},
   "outputs": [],
   "source": [
    "#coloque aqui o resultado"
   ]
  },
  {
   "cell_type": "code",
   "execution_count": 5,
   "id": "966a7315",
   "metadata": {},
   "outputs": [
    {
     "data": {
      "text/plain": [
       "NaN      2\n",
       "215.0    1\n",
       "213.0    1\n",
       "207.0    1\n",
       "203.0    1\n",
       "201.0    1\n",
       "197.0    1\n",
       "104.0    1\n",
       "Name: ST_NUM, dtype: int64"
      ]
     },
     "execution_count": 5,
     "metadata": {},
     "output_type": "execute_result"
    }
   ],
   "source": [
    "#exemplo de resposta abaixo:\n",
    "df['ST_NUM'].value_counts(dropna=False)"
   ]
  },
  {
   "cell_type": "markdown",
   "id": "a0928778",
   "metadata": {},
   "source": [
    "Você deve ter encontrado outros três problemas. Embora o Pandas tenha captado dois valores NaN, há outro valor \"na\", que deveria ter captado como um valor NaN, mas não foi. Este é o problema número 2 que precisamos consertar. O problema três é o fato do número de banheiros ser \"HURLEY\". E o último problema é encontrado, há um valor - que também deve ser considerado um valor NaN. "
   ]
  },
  {
   "cell_type": "markdown",
   "id": "24a78cdc",
   "metadata": {},
   "source": [
    "#### 3. Transforme todos os valores \"errados\" ou sem sentido em `NaN`"
   ]
  },
  {
   "cell_type": "markdown",
   "id": "9288c25a",
   "metadata": {},
   "source": [
    "O objetivo aqui é ter certeza de que todos os valores que deveriam ser NaN, são realmente NaN, podemos fazer isso pela seguinte célula de código. "
   ]
  },
  {
   "cell_type": "code",
   "execution_count": 6,
   "id": "20258a16",
   "metadata": {},
   "outputs": [],
   "source": [
    "# Defina uma lista de maneiras extras de escrever valores ausentes \n",
    "missing_values = [\"na\", \"--\"]\n",
    "\n",
    "# Use o parâmetro na_values para dizer aos Pandas quais são os valores perdidos extras \n",
    "df = pd.read_csv('property_data.csv', na_values = missing_values)"
   ]
  },
  {
   "cell_type": "markdown",
   "id": "732fe4f8",
   "metadata": {},
   "source": [
    "#### 4. Jogue fora todos os valores ausentes e cheque se isso faz sentido"
   ]
  },
  {
   "cell_type": "code",
   "execution_count": 7,
   "id": "00fedc6e",
   "metadata": {},
   "outputs": [
    {
     "data": {
      "text/html": [
       "<div>\n",
       "<style scoped>\n",
       "    .dataframe tbody tr th:only-of-type {\n",
       "        vertical-align: middle;\n",
       "    }\n",
       "\n",
       "    .dataframe tbody tr th {\n",
       "        vertical-align: top;\n",
       "    }\n",
       "\n",
       "    .dataframe thead th {\n",
       "        text-align: right;\n",
       "    }\n",
       "</style>\n",
       "<table border=\"1\" class=\"dataframe\">\n",
       "  <thead>\n",
       "    <tr style=\"text-align: right;\">\n",
       "      <th></th>\n",
       "      <th>PID</th>\n",
       "      <th>ST_NUM</th>\n",
       "      <th>ST_NAME</th>\n",
       "      <th>OWN_OCCUPIED</th>\n",
       "      <th>NUM_BEDROOMS</th>\n",
       "      <th>NUM_BATH</th>\n",
       "      <th>SQ_FT</th>\n",
       "    </tr>\n",
       "  </thead>\n",
       "  <tbody>\n",
       "    <tr>\n",
       "      <th>0</th>\n",
       "      <td>100001000.0</td>\n",
       "      <td>104.0</td>\n",
       "      <td>PUTNAM</td>\n",
       "      <td>Y</td>\n",
       "      <td>3.0</td>\n",
       "      <td>1</td>\n",
       "      <td>1000.0</td>\n",
       "    </tr>\n",
       "  </tbody>\n",
       "</table>\n",
       "</div>"
      ],
      "text/plain": [
       "           PID  ST_NUM ST_NAME OWN_OCCUPIED  NUM_BEDROOMS NUM_BATH   SQ_FT\n",
       "0  100001000.0   104.0  PUTNAM            Y           3.0        1  1000.0"
      ]
     },
     "execution_count": 7,
     "metadata": {},
     "output_type": "execute_result"
    }
   ],
   "source": [
    "df_nan_dropped = df.dropna()\n",
    "df_nan_dropped"
   ]
  }
 ],
 "metadata": {
  "kernelspec": {
   "display_name": "Python 3",
   "language": "python",
   "name": "python3"
  },
  "language_info": {
   "codemirror_mode": {
    "name": "ipython",
    "version": 3
   },
   "file_extension": ".py",
   "mimetype": "text/x-python",
   "name": "python",
   "nbconvert_exporter": "python",
   "pygments_lexer": "ipython3",
   "version": "3.6.9"
  }
 },
 "nbformat": 4,
 "nbformat_minor": 5
}
