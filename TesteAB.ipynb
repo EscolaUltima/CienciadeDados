{
  "nbformat": 4,
  "nbformat_minor": 0,
  "metadata": {
    "colab": {
      "name": "TesteAB.ipynb",
      "provenance": []
    },
    "kernelspec": {
      "name": "python3",
      "display_name": "Python 3"
    },
    "language_info": {
      "name": "python"
    }
  },
  "cells": [
    {
      "cell_type": "markdown",
      "source": [
        "Primeiramente, vamos importar as bibliotecas e os dados necessários."
      ],
      "metadata": {
        "id": "BEOM89D_hfAE"
      }
    },
    {
      "cell_type": "code",
      "execution_count": null,
      "metadata": {
        "id": "Nd8LSs3rhdp-"
      },
      "outputs": [],
      "source": [
        "import pandas as pd\n",
        "import numpy as np\n",
        "import random\n",
        "import matplotlib.pyplot as plt\n",
        "%matplotlib inline\n",
        "random.seed(42)"
      ]
    },
    {
      "cell_type": "code",
      "source": [
        "df = pd.read_csv('https://raw.githubusercontent.com/ozlerhakan/ab-test/master/ab_data.csv')\n",
        "df.head()"
      ],
      "metadata": {
        "colab": {
          "base_uri": "https://localhost:8080/",
          "height": 206
        },
        "id": "aPERu2Rihmyt",
        "outputId": "57c439c0-2794-46d8-fb9f-6b461153a723"
      },
      "execution_count": null,
      "outputs": [
        {
          "output_type": "execute_result",
          "data": {
            "text/html": [
              "\n",
              "  <div id=\"df-b858e72d-42ce-4f5c-b9d5-66174f518f3f\">\n",
              "    <div class=\"colab-df-container\">\n",
              "      <div>\n",
              "<style scoped>\n",
              "    .dataframe tbody tr th:only-of-type {\n",
              "        vertical-align: middle;\n",
              "    }\n",
              "\n",
              "    .dataframe tbody tr th {\n",
              "        vertical-align: top;\n",
              "    }\n",
              "\n",
              "    .dataframe thead th {\n",
              "        text-align: right;\n",
              "    }\n",
              "</style>\n",
              "<table border=\"1\" class=\"dataframe\">\n",
              "  <thead>\n",
              "    <tr style=\"text-align: right;\">\n",
              "      <th></th>\n",
              "      <th>user_id</th>\n",
              "      <th>timestamp</th>\n",
              "      <th>group</th>\n",
              "      <th>landing_page</th>\n",
              "      <th>converted</th>\n",
              "    </tr>\n",
              "  </thead>\n",
              "  <tbody>\n",
              "    <tr>\n",
              "      <th>0</th>\n",
              "      <td>851104</td>\n",
              "      <td>2017-01-21 22:11:48.556739</td>\n",
              "      <td>control</td>\n",
              "      <td>old_page</td>\n",
              "      <td>0</td>\n",
              "    </tr>\n",
              "    <tr>\n",
              "      <th>1</th>\n",
              "      <td>804228</td>\n",
              "      <td>2017-01-12 08:01:45.159739</td>\n",
              "      <td>control</td>\n",
              "      <td>old_page</td>\n",
              "      <td>0</td>\n",
              "    </tr>\n",
              "    <tr>\n",
              "      <th>2</th>\n",
              "      <td>661590</td>\n",
              "      <td>2017-01-11 16:55:06.154213</td>\n",
              "      <td>treatment</td>\n",
              "      <td>new_page</td>\n",
              "      <td>0</td>\n",
              "    </tr>\n",
              "    <tr>\n",
              "      <th>3</th>\n",
              "      <td>853541</td>\n",
              "      <td>2017-01-08 18:28:03.143765</td>\n",
              "      <td>treatment</td>\n",
              "      <td>new_page</td>\n",
              "      <td>0</td>\n",
              "    </tr>\n",
              "    <tr>\n",
              "      <th>4</th>\n",
              "      <td>864975</td>\n",
              "      <td>2017-01-21 01:52:26.210827</td>\n",
              "      <td>control</td>\n",
              "      <td>old_page</td>\n",
              "      <td>1</td>\n",
              "    </tr>\n",
              "  </tbody>\n",
              "</table>\n",
              "</div>\n",
              "      <button class=\"colab-df-convert\" onclick=\"convertToInteractive('df-b858e72d-42ce-4f5c-b9d5-66174f518f3f')\"\n",
              "              title=\"Convert this dataframe to an interactive table.\"\n",
              "              style=\"display:none;\">\n",
              "        \n",
              "  <svg xmlns=\"http://www.w3.org/2000/svg\" height=\"24px\"viewBox=\"0 0 24 24\"\n",
              "       width=\"24px\">\n",
              "    <path d=\"M0 0h24v24H0V0z\" fill=\"none\"/>\n",
              "    <path d=\"M18.56 5.44l.94 2.06.94-2.06 2.06-.94-2.06-.94-.94-2.06-.94 2.06-2.06.94zm-11 1L8.5 8.5l.94-2.06 2.06-.94-2.06-.94L8.5 2.5l-.94 2.06-2.06.94zm10 10l.94 2.06.94-2.06 2.06-.94-2.06-.94-.94-2.06-.94 2.06-2.06.94z\"/><path d=\"M17.41 7.96l-1.37-1.37c-.4-.4-.92-.59-1.43-.59-.52 0-1.04.2-1.43.59L10.3 9.45l-7.72 7.72c-.78.78-.78 2.05 0 2.83L4 21.41c.39.39.9.59 1.41.59.51 0 1.02-.2 1.41-.59l7.78-7.78 2.81-2.81c.8-.78.8-2.07 0-2.86zM5.41 20L4 18.59l7.72-7.72 1.47 1.35L5.41 20z\"/>\n",
              "  </svg>\n",
              "      </button>\n",
              "      \n",
              "  <style>\n",
              "    .colab-df-container {\n",
              "      display:flex;\n",
              "      flex-wrap:wrap;\n",
              "      gap: 12px;\n",
              "    }\n",
              "\n",
              "    .colab-df-convert {\n",
              "      background-color: #E8F0FE;\n",
              "      border: none;\n",
              "      border-radius: 50%;\n",
              "      cursor: pointer;\n",
              "      display: none;\n",
              "      fill: #1967D2;\n",
              "      height: 32px;\n",
              "      padding: 0 0 0 0;\n",
              "      width: 32px;\n",
              "    }\n",
              "\n",
              "    .colab-df-convert:hover {\n",
              "      background-color: #E2EBFA;\n",
              "      box-shadow: 0px 1px 2px rgba(60, 64, 67, 0.3), 0px 1px 3px 1px rgba(60, 64, 67, 0.15);\n",
              "      fill: #174EA6;\n",
              "    }\n",
              "\n",
              "    [theme=dark] .colab-df-convert {\n",
              "      background-color: #3B4455;\n",
              "      fill: #D2E3FC;\n",
              "    }\n",
              "\n",
              "    [theme=dark] .colab-df-convert:hover {\n",
              "      background-color: #434B5C;\n",
              "      box-shadow: 0px 1px 3px 1px rgba(0, 0, 0, 0.15);\n",
              "      filter: drop-shadow(0px 1px 2px rgba(0, 0, 0, 0.3));\n",
              "      fill: #FFFFFF;\n",
              "    }\n",
              "  </style>\n",
              "\n",
              "      <script>\n",
              "        const buttonEl =\n",
              "          document.querySelector('#df-b858e72d-42ce-4f5c-b9d5-66174f518f3f button.colab-df-convert');\n",
              "        buttonEl.style.display =\n",
              "          google.colab.kernel.accessAllowed ? 'block' : 'none';\n",
              "\n",
              "        async function convertToInteractive(key) {\n",
              "          const element = document.querySelector('#df-b858e72d-42ce-4f5c-b9d5-66174f518f3f');\n",
              "          const dataTable =\n",
              "            await google.colab.kernel.invokeFunction('convertToInteractive',\n",
              "                                                     [key], {});\n",
              "          if (!dataTable) return;\n",
              "\n",
              "          const docLinkHtml = 'Like what you see? Visit the ' +\n",
              "            '<a target=\"_blank\" href=https://colab.research.google.com/notebooks/data_table.ipynb>data table notebook</a>'\n",
              "            + ' to learn more about interactive tables.';\n",
              "          element.innerHTML = '';\n",
              "          dataTable['output_type'] = 'display_data';\n",
              "          await google.colab.output.renderOutput(dataTable, element);\n",
              "          const docLink = document.createElement('div');\n",
              "          docLink.innerHTML = docLinkHtml;\n",
              "          element.appendChild(docLink);\n",
              "        }\n",
              "      </script>\n",
              "    </div>\n",
              "  </div>\n",
              "  "
            ],
            "text/plain": [
              "   user_id                   timestamp      group landing_page  converted\n",
              "0   851104  2017-01-21 22:11:48.556739    control     old_page          0\n",
              "1   804228  2017-01-12 08:01:45.159739    control     old_page          0\n",
              "2   661590  2017-01-11 16:55:06.154213  treatment     new_page          0\n",
              "3   853541  2017-01-08 18:28:03.143765  treatment     new_page          0\n",
              "4   864975  2017-01-21 01:52:26.210827    control     old_page          1"
            ]
          },
          "metadata": {},
          "execution_count": 2
        }
      ]
    },
    {
      "cell_type": "markdown",
      "source": [
        "### Encontre o número de linhas no conjunto de dados.\n",
        "\n",
        "\n"
      ],
      "metadata": {
        "id": "gjnmh9CYhsYY"
      }
    },
    {
      "cell_type": "markdown",
      "source": [
        "### Encontre o número de usuários únicos no conjunto de dados.\n"
      ],
      "metadata": {
        "id": "xlCpbG6Shz1t"
      }
    },
    {
      "cell_type": "markdown",
      "source": [
        "### Encontre a proporção de usuários convertidos."
      ],
      "metadata": {
        "id": "bJxGZojwh-Fw"
      }
    },
    {
      "cell_type": "markdown",
      "source": [
        "### Cheque o número de vezes que `new_page` e `treatment` não se alinham."
      ],
      "metadata": {
        "id": "1krHVqOviEbP"
      }
    },
    {
      "cell_type": "markdown",
      "source": [
        "### Para as linhas em que o tratamento não está alinhado com `new_page` ou o controle não está alinhado com `old_page`, não podemos ter certeza se essa linha realmente recebeu a página nova ou antiga. Por isso, vamos manipular um pouco o dataset."
      ],
      "metadata": {
        "id": "4pXLMjS-jz0c"
      }
    },
    {
      "cell_type": "code",
      "source": [
        "df2 = df.iloc[df.query('group == \"treatment\" and landing_page == \"new_page\"').index.values]"
      ],
      "metadata": {
        "id": "snH32VL1j_1v"
      },
      "execution_count": null,
      "outputs": []
    },
    {
      "cell_type": "code",
      "source": [
        "df3 = df.iloc[df.query('group == \"control\" and landing_page == \"old_page\"').index.values]"
      ],
      "metadata": {
        "id": "GT_n1bO5kFwJ"
      },
      "execution_count": null,
      "outputs": []
    },
    {
      "cell_type": "code",
      "source": [
        "df2 = df2.append(df3)"
      ],
      "metadata": {
        "id": "iA8Or1BHkIHu"
      },
      "execution_count": null,
      "outputs": []
    },
    {
      "cell_type": "code",
      "source": [
        "df2[((df2['group'] == 'treatment') == (df2['landing_page'] == 'new_page')) == False].shape[0]"
      ],
      "metadata": {
        "colab": {
          "base_uri": "https://localhost:8080/"
        },
        "id": "1_vSe-pXkKHK",
        "outputId": "01946b78-cd74-4815-fa76-aee75adfd96b"
      },
      "execution_count": null,
      "outputs": [
        {
          "output_type": "execute_result",
          "data": {
            "text/plain": [
              "0"
            ]
          },
          "metadata": {},
          "execution_count": 14
        }
      ]
    },
    {
      "cell_type": "markdown",
      "source": [
        "### O usuário `773192` está duplicado. Cheque isso e remova uma das entradas"
      ],
      "metadata": {
        "id": "_LzB_XTQjz5Z"
      }
    },
    {
      "cell_type": "markdown",
      "source": [
        "### Qual é a probabilidade de um indivíduo converter, independentemente da página que recebe?"
      ],
      "metadata": {
        "id": "jc7qWqrQklI3"
      }
    },
    {
      "cell_type": "markdown",
      "source": [
        "### Dado que um indivíduo estava no grupo de controle, qual é a probabilidade de conversão?"
      ],
      "metadata": {
        "id": "DZoZ8Hsykyjd"
      }
    },
    {
      "cell_type": "markdown",
      "source": [
        "### Dado que um indivíduo estava no grupo de tratamento, qual é a probabilidade de conversão?"
      ],
      "metadata": {
        "id": "aEvOWzzEk6UU"
      }
    },
    {
      "cell_type": "markdown",
      "source": [
        "### Qual é a probabilidade de que um indivíduo tenha recebido a nova página?"
      ],
      "metadata": {
        "id": "R39QLgxRlIZv"
      }
    },
    {
      "cell_type": "markdown",
      "source": [
        "### Qual é a probabilidade de que um indivíduo tenha recebido a página antiga?"
      ],
      "metadata": {
        "id": "6aHgHHsJlPcC"
      }
    },
    {
      "cell_type": "markdown",
      "source": [
        "Observe que, devido ao carimbo de data/hora associado a cada evento, você pode tecnicamente executar um teste de hipótese continuamente à medida que cada observação é observada.\n",
        "\n",
        "No entanto, a pergunta difícil é: você para assim que uma página é considerada significativamente melhor que outra ou precisa acontecer de forma consistente por um determinado período de tempo? Quanto tempo você corre para renderizar uma decisão de que nenhuma página é melhor que a outra?\n",
        "\n",
        "Essas perguntas são as partes difíceis associadas aos testes A/B em geral."
      ],
      "metadata": {
        "id": "XnXU7LkflaA4"
      }
    },
    {
      "cell_type": "markdown",
      "source": [
        "Por enquanto, considere que você precisa tomar a decisão apenas com base em todos os dados fornecidos. Se você quiser supor que a página antiga é melhor, a menos que a nova página seja definitivamente melhor com uma taxa de erro Tipo I de 5% (ou seja, `0,05`), quais devem ser suas hipóteses nula e alternativa? Você pode declarar sua hipótese em termos de palavras ou em termos de e , que são as taxas convertidas para as páginas antigas e novas."
      ],
      "metadata": {
        "id": "o2HuZNUYleIE"
      }
    },
    {
      "cell_type": "markdown",
      "source": [
        "![](https://miro.medium.com/max/592/1*ZfVY8b4r8UjUprgOe7ITVA.jpeg)"
      ],
      "metadata": {
        "id": "6dghzwVilktF"
      }
    },
    {
      "cell_type": "markdown",
      "source": [
        "Assuma sob a hipótese nula, `p_old` e `p_new` ambos têm taxas de sucesso \"verdadeiras\" iguais à taxa de sucesso convertida, independentemente da página - ou seja, e são iguais. Além disso, suponha que sejam iguais à taxa convertida em ab_data.csv, independentemente da página."
      ],
      "metadata": {
        "id": "-MnWB52hp7Mx"
      }
    },
    {
      "cell_type": "markdown",
      "source": [
        "Use um tamanho de amostra para cada página igual aos de ab_data.csv.\n",
        "\n",
        "Execute a distribuição de amostragem para a diferença na conversão entre as duas páginas em mais de 10.000 iterações de cálculo de uma estimativa a partir do nulo.\n",
        "\n",
        "Use as células abaixo para fornecer as partes necessárias desta simulação. Se isso não fizer todo o sentido agora, não se preocupe - você trabalhará com os problemas abaixo para concluir isso."
      ],
      "metadata": {
        "id": "uDLYKgJRqFN9"
      }
    },
    {
      "cell_type": "code",
      "source": [
        "df2.landing_page.value_counts()"
      ],
      "metadata": {
        "colab": {
          "base_uri": "https://localhost:8080/"
        },
        "id": "CA-ANg5ilRj0",
        "outputId": "870e161a-fbe3-4e1b-b718-de29efb40f4f"
      },
      "execution_count": null,
      "outputs": [
        {
          "output_type": "execute_result",
          "data": {
            "text/plain": [
              "new_page    145310\n",
              "old_page    145274\n",
              "Name: landing_page, dtype: int64"
            ]
          },
          "metadata": {},
          "execution_count": 24
        }
      ]
    },
    {
      "cell_type": "markdown",
      "source": [
        "### Qual é a taxa de conversão `p_new` para sob a nula?"
      ],
      "metadata": {
        "id": "07dDX4YPqN2r"
      }
    },
    {
      "cell_type": "markdown",
      "source": [
        "### Qual é a taxa de conversão `p_old` para sob a nula?"
      ],
      "metadata": {
        "id": "9tsh-bwJqX7G"
      }
    },
    {
      "cell_type": "markdown",
      "source": [
        "### Agora vamos calcular `n_new` e `n_old`"
      ],
      "metadata": {
        "id": "NUIfCGPVqgca"
      }
    },
    {
      "cell_type": "code",
      "source": [
        "n_new = df2.query('landing_page == \"new_page\"').count()[0] \n",
        "n_new"
      ],
      "metadata": {
        "colab": {
          "base_uri": "https://localhost:8080/"
        },
        "id": "-GaBxZnRqjbo",
        "outputId": "f82d536a-17a3-48c1-e151-3544028695ff"
      },
      "execution_count": null,
      "outputs": [
        {
          "output_type": "execute_result",
          "data": {
            "text/plain": [
              "145310"
            ]
          },
          "metadata": {},
          "execution_count": 27
        }
      ]
    },
    {
      "cell_type": "code",
      "source": [
        "n_old = df2.query('landing_page == \"old_page\"').count()[0]\n",
        "n_old"
      ],
      "metadata": {
        "colab": {
          "base_uri": "https://localhost:8080/"
        },
        "id": "-TiBeX6ZqlBk",
        "outputId": "f7dd7ada-dc77-44db-dbaf-1f72beea4b12"
      },
      "execution_count": null,
      "outputs": [
        {
          "output_type": "execute_result",
          "data": {
            "text/plain": [
              "145274"
            ]
          },
          "metadata": {},
          "execution_count": 28
        }
      ]
    },
    {
      "cell_type": "markdown",
      "source": [
        "### Agora vamos utilizar uma biblioteca para calcular o p-valor"
      ],
      "metadata": {
        "id": "_4TP2CJyq6L8"
      }
    },
    {
      "cell_type": "code",
      "source": [
        "import statsmodels.api as sm\n",
        "\n",
        "# o número de conversões para cada página\n",
        "convert_old = df2.query('landing_page == \"old_page\"').converted.sum()  # old page == control group\n",
        "convert_new = df2.query('landing_page == \"new_page\"').converted.sum()  # new page == treatment group\n",
        "# o número de indivíduos que receberam cada página\n",
        "n_old = df2.query('landing_page == \"old_page\"')['user_id'].nunique()\n",
        "n_new = df2.query('landing_page == \"new_page\"')['user_id'].nunique()"
      ],
      "metadata": {
        "colab": {
          "base_uri": "https://localhost:8080/"
        },
        "id": "tWF8Bti6q9Kh",
        "outputId": "f2469ba8-0aca-428f-cbdc-8228ab10a02a"
      },
      "execution_count": null,
      "outputs": [
        {
          "output_type": "stream",
          "name": "stderr",
          "text": [
            "/usr/local/lib/python3.7/dist-packages/statsmodels/tools/_testing.py:19: FutureWarning: pandas.util.testing is deprecated. Use the functions in the public API at pandas.testing instead.\n",
            "  import pandas.util.testing as tm\n"
          ]
        }
      ]
    },
    {
      "cell_type": "markdown",
      "source": [
        "### Agora use `stats.proportions_ztest` para calcular sua estatística de teste e valor-p. "
      ],
      "metadata": {
        "id": "DXoLuRJ8rI9R"
      }
    },
    {
      "cell_type": "code",
      "source": [
        "from scipy.stats import norm\n",
        "\n",
        "norm.cdf(z_score) # Nos diz o quão significativo é o nosso z-score"
      ],
      "metadata": {
        "colab": {
          "base_uri": "https://localhost:8080/"
        },
        "id": "AOTY3esTrURR",
        "outputId": "4c4060f5-1ddb-40c8-bfe7-6b7e2c9fe74d"
      },
      "execution_count": null,
      "outputs": [
        {
          "output_type": "execute_result",
          "data": {
            "text/plain": [
              "0.09494168724097551"
            ]
          },
          "metadata": {},
          "execution_count": 31
        }
      ]
    },
    {
      "cell_type": "code",
      "source": [
        "norm.ppf(1-(0.05/2)) # Nos diz qual é o nosso valor crítico com 95% de confiança"
      ],
      "metadata": {
        "colab": {
          "base_uri": "https://localhost:8080/"
        },
        "id": "HGo9NdizrbVa",
        "outputId": "92c7a492-c0e3-4ea2-fc79-17425171a513"
      },
      "execution_count": null,
      "outputs": [
        {
          "output_type": "execute_result",
          "data": {
            "text/plain": [
              "1.959963984540054"
            ]
          },
          "metadata": {},
          "execution_count": 32
        }
      ]
    },
    {
      "cell_type": "markdown",
      "source": [
        "### O que o z-score e o p-value que você calculou na pergunta anterior significam para as taxas de conversão das páginas antigas e novas?"
      ],
      "metadata": {
        "id": "KLzjWGBmrgZI"
      }
    },
    {
      "cell_type": "code",
      "source": [
        ""
      ],
      "metadata": {
        "id": "sFDbzdYCrrY_"
      },
      "execution_count": null,
      "outputs": []
    }
  ]
}