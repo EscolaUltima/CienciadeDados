{
  "nbformat": 4,
  "nbformat_minor": 0,
  "metadata": {
    "colab": {
      "name": "Não-supervisionado - Respostas.ipynb",
      "provenance": []
    },
    "kernelspec": {
      "name": "python3",
      "display_name": "Python 3"
    },
    "language_info": {
      "name": "python"
    }
  },
  "cells": [
    {
      "cell_type": "code",
      "execution_count": 2,
      "metadata": {
        "id": "Cc1NY1KYtAeK"
      },
      "outputs": [],
      "source": [
        "import matplotlib.pyplot as plt\n",
        "from sklearn import datasets\n",
        "import sklearn.metrics as sm\n",
        " \n",
        "import pandas as pd\n",
        "import numpy as np\n",
        " \n",
        "# Only needed if you want to display your plots inline if using Notebook\n",
        "# change inline to auto if you have Spyder installed\n",
        "%matplotlib inline"
      ]
    },
    {
      "cell_type": "code",
      "source": [
        "iris = datasets.load_iris()"
      ],
      "metadata": {
        "id": "wBIkiFQStGmV"
      },
      "execution_count": 3,
      "outputs": []
    },
    {
      "cell_type": "markdown",
      "source": [
        "### Mapeando rótulos de destino para nomes de destino"
      ],
      "metadata": {
        "id": "Zin6nb52tLr2"
      }
    },
    {
      "cell_type": "code",
      "source": [
        "species_dict = dict(zip(range(0, len(iris.target_names)), iris.target_names))\n",
        "\n",
        "iris_species = list((map(lambda x : species_dict[x], iris.target)))"
      ],
      "metadata": {
        "id": "Grt83FUKtMno"
      },
      "execution_count": 4,
      "outputs": []
    },
    {
      "cell_type": "markdown",
      "source": [
        "### Cheque o nome das variáveis"
      ],
      "metadata": {
        "id": "Mz18rWB2tQHN"
      }
    },
    {
      "cell_type": "code",
      "source": [
        "iris.feature_names"
      ],
      "metadata": {
        "colab": {
          "base_uri": "https://localhost:8080/"
        },
        "id": "E0cYHraGtRUV",
        "outputId": "833a7d17-88a9-4000-827b-e132b4591b7d"
      },
      "execution_count": 5,
      "outputs": [
        {
          "output_type": "execute_result",
          "data": {
            "text/plain": [
              "['sepal length (cm)',\n",
              " 'sepal width (cm)',\n",
              " 'petal length (cm)',\n",
              " 'petal width (cm)']"
            ]
          },
          "metadata": {},
          "execution_count": 5
        }
      ]
    },
    {
      "cell_type": "markdown",
      "source": [
        "### Cheque o nome das espécies"
      ],
      "metadata": {
        "id": "-NjB-OmvtUEH"
      }
    },
    {
      "cell_type": "code",
      "source": [
        "iris.target_names"
      ],
      "metadata": {
        "colab": {
          "base_uri": "https://localhost:8080/"
        },
        "id": "NBMS2ujBtRgJ",
        "outputId": "b33b04ed-aa01-405e-cce6-4b12f8ce1f4d"
      },
      "execution_count": 6,
      "outputs": [
        {
          "output_type": "execute_result",
          "data": {
            "text/plain": [
              "array(['setosa', 'versicolor', 'virginica'], dtype='<U10')"
            ]
          },
          "metadata": {},
          "execution_count": 6
        }
      ]
    },
    {
      "cell_type": "markdown",
      "source": [
        "### Coloque tudo em um dataset"
      ],
      "metadata": {
        "id": "6PsxmYkxtZIW"
      }
    },
    {
      "cell_type": "code",
      "source": [
        "x = pd.DataFrame(iris.data, columns = ['Sepal_Length','Sepal_Width','Petal_Length','Petal_Width'])\n",
        " \n",
        "y = pd.DataFrame(iris.target, columns = ['Targets'])"
      ],
      "metadata": {
        "id": "s5pPDbdjtWew"
      },
      "execution_count": 7,
      "outputs": []
    },
    {
      "cell_type": "markdown",
      "source": [
        "Você recebe uma matriz de pontos de tamanho 150x4. Como visto acima, nossas características são comprimento da sépala (cm), largura da sépala (cm), comprimento da pétala (cm), largura da pétala (cm).\n",
        "\n",
        "`matplotlib.pyplot` já foi importado como plt.\n",
        "\n",
        "Faça um gráfico de dispersão passando `x.Sepal_Length` e `x.Sepal_Width` para a função `plt.scatter()`. Faça um gráfico de dispersão passando `x.Petal_Length` e `x.Petal_Width` para a função `plt.scatter()`. Chame a função `plt.show()` para mostrar seu gráfico. Quantos clusters você vê?"
      ],
      "metadata": {
        "id": "dtTJHdTLtgP2"
      }
    },
    {
      "cell_type": "code",
      "source": [
        "# Defina o tamanho\n",
        "plt.figure(figsize=(14,7))\n",
        " \n",
        "# Plote\n",
        "plt.subplot(1, 2, 1) \n",
        "\n",
        "plt.scatter(x.Sepal_Length, x.Sepal_Width)\n",
        "plt.xlabel('Length')\n",
        "plt.ylabel('Width')\n",
        "\n",
        "plt.title('Sepal')\n",
        " \n",
        "plt.subplot(1, 2, 2)\n",
        "plt.scatter(x.Petal_Length, x.Petal_Width)\n",
        "plt.xlabel('Length')\n",
        "plt.ylabel('Width')\n",
        "\n",
        "plt.title('Petal')"
      ],
      "metadata": {
        "colab": {
          "base_uri": "https://localhost:8080/",
          "height": 475
        },
        "id": "6LjIH6NMtbFH",
        "outputId": "ff50cc3b-619f-4de0-bdd4-74015ec01f21"
      },
      "execution_count": 8,
      "outputs": [
        {
          "output_type": "execute_result",
          "data": {
            "text/plain": [
              "Text(0.5, 1.0, 'Petal')"
            ]
          },
          "metadata": {},
          "execution_count": 8
        },
        {
          "output_type": "display_data",
          "data": {
            "image/png": "[encoded data removed]",
            "text/plain": [
              "<Figure size 1008x504 with 2 Axes>"
            ]
          },
          "metadata": {
            "needs_background": "light"
          }
        }
      ]
    },
    {
      "cell_type": "markdown",
      "source": [
        "O tamanho dos dados na era moderna não é apenas um desafio para o hardware do computador, mas também um gargalo principal para o desempenho de muitos algoritmos de aprendizado de máquina. O principal objetivo de uma análise de PCA é identificar padrões nos dados; A PCA visa detectar a correlação entre as variáveis. Se existir uma forte correlação entre as variáveis, a tentativa de reduzir a dimensionalidade só faz sentido. Em poucas palavras, é disso que se trata o PCA: encontrar as direções de variação máxima em dados de alta dimensão e projetá-los em um subespaço dimensional menor enquanto retém a maioria das informações."
      ],
      "metadata": {
        "id": "b3RSytXdt1Rs"
      }
    },
    {
      "cell_type": "markdown",
      "source": [
        "Como o intervalo de valores dos dados brutos varia muito, em alguns algoritmos de aprendizado de máquina, as funções objetivas não funcionarão corretamente sem normalização. Por exemplo, a maioria dos classificadores calcula a distância entre dois pontos pela distância euclidiana. Se um dos recursos tiver uma ampla faixa de valores, a distância será regida por esse recurso específico. Portanto, o alcance de todas as feições deve ser normalizado para que cada feições contribua aproximadamente proporcionalmente à distância final.\n",
        "\n",
        "Dados não dimensionados também podem retardar ou até mesmo impedir a convergência de muitos estimadores baseados em gradiente. Existem vários métodos para normalizar dados. Para este tutorial, vamos usar o StandardScaler do scikit-learn."
      ],
      "metadata": {
        "id": "TrDVt1FNt7OK"
      }
    },
    {
      "cell_type": "code",
      "source": [
        "from sklearn.preprocessing import StandardScaler\n",
        "X_std = StandardScaler().fit_transform(x)"
      ],
      "metadata": {
        "id": "zMTACwlWtrQf"
      },
      "execution_count": 9,
      "outputs": []
    },
    {
      "cell_type": "code",
      "source": [
        "# Perform the necessary imports\n",
        "from sklearn.decomposition import PCA\n",
        "from sklearn.preprocessing import StandardScaler\n",
        "\n",
        "# Crie o scaler\n",
        "scaler = StandardScaler()\n",
        "\n",
        "# Crie a estância de PCA\n",
        "pca = PCA()\n",
        "\n",
        "# Fit_transform \n",
        "X_norm = scaler.fit_transform(x)\n",
        "pca.fit(X_norm)"
      ],
      "metadata": {
        "colab": {
          "base_uri": "https://localhost:8080/"
        },
        "id": "4QYJv4G9t99M",
        "outputId": "65bdf3f8-97f4-4c1b-f260-4561fedd70f4"
      },
      "execution_count": 10,
      "outputs": [
        {
          "output_type": "execute_result",
          "data": {
            "text/plain": [
              "PCA()"
            ]
          },
          "metadata": {},
          "execution_count": 10
        }
      ]
    },
    {
      "cell_type": "markdown",
      "source": [
        "### Plote a importância das variáveis"
      ],
      "metadata": {
        "id": "tPvZwPKKuMDw"
      }
    },
    {
      "cell_type": "code",
      "source": [
        "features = range(0, 4)\n",
        "plt.bar(features, pca.explained_variance_)\n",
        "plt.xlabel('PCA feature')\n",
        "plt.ylabel('variance')\n",
        "plt.xticks(features)\n",
        "plt.show()"
      ],
      "metadata": {
        "colab": {
          "base_uri": "https://localhost:8080/",
          "height": 279
        },
        "id": "3a__qBqyuEsv",
        "outputId": "97577088-8433-48c8-c252-340b377b25db"
      },
      "execution_count": 11,
      "outputs": [
        {
          "output_type": "display_data",
          "data": {
            "image/png": "[encoded data removed]",
            "text/plain": [
              "<Figure size 432x288 with 1 Axes>"
            ]
          },
          "metadata": {
            "needs_background": "light"
          }
        }
      ]
    },
    {
      "cell_type": "markdown",
      "source": [
        "Em um exercício anterior, você descobriu que a \"dimensão intrínseca\" era cerca de `k<4` do conjunto de dados da íris. Agora use o PCA para reduzir a dimensionalidade do conjunto de dados da íris, retendo apenas os 2 componentes mais importantes.\n",
        "\n",
        "Já fomos dimensionados acima, e está disponível como `X_norm`."
      ],
      "metadata": {
        "id": "ZrItGn9CyMes"
      }
    },
    {
      "cell_type": "markdown",
      "source": [
        "### Crie uma instância do PCA chamada pca com `n_components=2`."
      ],
      "metadata": {
        "id": "WbkUm7THyUQ6"
      }
    },
    {
      "cell_type": "code",
      "source": [
        "pca = PCA(n_components=2)"
      ],
      "metadata": {
        "id": "H1nzLYUiy7Zy"
      },
      "execution_count": 12,
      "outputs": []
    },
    {
      "cell_type": "markdown",
      "source": [
        "### Use o método `.fit()` de pca para ajustá-lo aos dados de íris escalonados `X_norm`."
      ],
      "metadata": {
        "id": "efCUkJ-IyXfg"
      }
    },
    {
      "cell_type": "code",
      "source": [
        "pca.fit(X_norm)"
      ],
      "metadata": {
        "colab": {
          "base_uri": "https://localhost:8080/"
        },
        "id": "YcdmBlp6y9t8",
        "outputId": "e6e35d6a-86ff-443a-a28a-996798886993"
      },
      "execution_count": 13,
      "outputs": [
        {
          "output_type": "execute_result",
          "data": {
            "text/plain": [
              "PCA(n_components=2)"
            ]
          },
          "metadata": {},
          "execution_count": 13
        }
      ]
    },
    {
      "cell_type": "markdown",
      "source": [
        "### Use o método `.transform()` do pca para transformar o `X_norm`. Atribua o resultado a pca_features."
      ],
      "metadata": {
        "id": "mkM_7uS8ycWR"
      }
    },
    {
      "cell_type": "code",
      "source": [
        "pca_features = pca.transform(X_norm)"
      ],
      "metadata": {
        "id": "wD1itQPYugsc"
      },
      "execution_count": 14,
      "outputs": []
    },
    {
      "cell_type": "markdown",
      "source": [
        "### Plote o resultado"
      ],
      "metadata": {
        "id": "syvgSXJ2zB-C"
      }
    },
    {
      "cell_type": "code",
      "source": [
        "plt.scatter(pca_features[:, 0], pca_features[:, 1])"
      ],
      "metadata": {
        "colab": {
          "base_uri": "https://localhost:8080/",
          "height": 282
        },
        "id": "WRmPlhdezDCW",
        "outputId": "f8a68572-cc02-4966-f68c-ea08a1bad5a1"
      },
      "execution_count": 15,
      "outputs": [
        {
          "output_type": "execute_result",
          "data": {
            "text/plain": [
              "<matplotlib.collections.PathCollection at 0x7f5d4b6fd610>"
            ]
          },
          "metadata": {},
          "execution_count": 15
        },
        {
          "output_type": "display_data",
          "data": {
            "image/png": "[encoded data removed]",
            "text/plain": [
              "<Figure size 432x288 with 1 Axes>"
            ]
          },
          "metadata": {
            "needs_background": "light"
          }
        }
      ]
    },
    {
      "cell_type": "markdown",
      "source": [
        "A partir do gráfico de dispersão do exercício anterior, você viu que os pontos parecem se separar em 3 grupos. Agora você criará um modelo do KMeans para encontrar 3 clusters e ajustá-lo aos pontos de dados do exercício anterior. Depois que o modelo for ajustado, você obterá os rótulos de cluster para alguns novos pontos usando o método `.predict()`.\n",
        "\n",
        "Você recebe os pontos do array do exercício anterior e também um array new_points."
      ],
      "metadata": {
        "id": "kG2hRFPuzJ34"
      }
    },
    {
      "cell_type": "code",
      "source": [
        "from sklearn.cluster import KMeans"
      ],
      "metadata": {
        "id": "XbiUZgSjzDdE"
      },
      "execution_count": 16,
      "outputs": []
    },
    {
      "cell_type": "markdown",
      "source": [
        "### Usando o `KMeans()`, crie uma instância do KMeans chamada model para encontrar 3 clusters. Para especificar o número de clusters, use o argumento de palavra-chave `n_clusters`."
      ],
      "metadata": {
        "id": "AabMM9RwQcG7"
      }
    },
    {
      "cell_type": "code",
      "source": [
        "model = KMeans(n_clusters=3)"
      ],
      "metadata": {
        "id": "EJ5kIyAdQ0NB"
      },
      "execution_count": 17,
      "outputs": []
    },
    {
      "cell_type": "markdown",
      "source": [
        "### Fite o modelo"
      ],
      "metadata": {
        "id": "Rd3jBk5VRBwo"
      }
    },
    {
      "cell_type": "code",
      "source": [
        "model.fit(X_norm)"
      ],
      "metadata": {
        "colab": {
          "base_uri": "https://localhost:8080/"
        },
        "id": "Ktm2LqZ1RF4w",
        "outputId": "5c6c617c-0ab3-44e9-bb15-cedf01cadc20"
      },
      "execution_count": 18,
      "outputs": [
        {
          "output_type": "execute_result",
          "data": {
            "text/plain": [
              "KMeans(n_clusters=3)"
            ]
          },
          "metadata": {},
          "execution_count": 18
        }
      ]
    },
    {
      "cell_type": "code",
      "source": [
        "labels = model.labels_"
      ],
      "metadata": {
        "id": "0-7G9m5kRGMY"
      },
      "execution_count": 19,
      "outputs": []
    },
    {
      "cell_type": "markdown",
      "source": [
        "Use a função `pd.crosstab()` em `df['labels']` e `df['variedades']` para contar o número de vezes que cada espécie de íris coincide com cada rótulo de cluster. Atribuir o resultado a `ct`"
      ],
      "metadata": {
        "id": "4dAHHM45RQLA"
      }
    },
    {
      "cell_type": "code",
      "source": [
        "model = KMeans(n_clusters=3)\n",
        "labels = model.fit_predict(pca_features)\n",
        "df = pd.DataFrame({'labels': labels, 'species': iris_species})\n",
        "ct = pd.crosstab(df['labels'], df['species'])\n",
        "print(ct)"
      ],
      "metadata": {
        "colab": {
          "base_uri": "https://localhost:8080/"
        },
        "id": "tLKw8b4lRIc6",
        "outputId": "3f5757d4-9de2-45f3-bb17-19da879b3174"
      },
      "execution_count": 20,
      "outputs": [
        {
          "output_type": "stream",
          "name": "stdout",
          "text": [
            "species  setosa  versicolor  virginica\n",
            "labels                                \n",
            "0             0          39         16\n",
            "1            50           0          0\n",
            "2             0          11         34\n"
          ]
        }
      ]
    },
    {
      "cell_type": "code",
      "source": [
        ""
      ],
      "metadata": {
        "id": "Hi9Cju4FRPPp"
      },
      "execution_count": null,
      "outputs": []
    }
  ]
}