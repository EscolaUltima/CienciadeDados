{
  "nbformat": 4,
  "nbformat_minor": 0,
  "metadata": {
    "colab": {
      "name": "TesteAB - Respostas.ipynb",
      "provenance": []
    },
    "kernelspec": {
      "name": "python3",
      "display_name": "Python 3"
    },
    "language_info": {
      "name": "python"
    }
  },
  "cells": [
    {
      "cell_type": "markdown",
      "source": [
        "Primeiramente, vamos importar as bibliotecas e os dados necessários."
      ],
      "metadata": {
        "id": "BEOM89D_hfAE"
      }
    },
    {
      "cell_type": "code",
      "execution_count": 1,
      "metadata": {
        "id": "Nd8LSs3rhdp-"
      },
      "outputs": [],
      "source": [
        "import pandas as pd\n",
        "import numpy as np\n",
        "import random\n",
        "import matplotlib.pyplot as plt\n",
        "%matplotlib inline\n",
        "random.seed(42)"
      ]
    },
    {
      "cell_type": "code",
      "source": [
        "df = pd.read_csv('https://raw.githubusercontent.com/ozlerhakan/ab-test/master/ab_data.csv')\n",
        "df.head()"
      ],
      "metadata": {
        "colab": {
          "base_uri": "https://localhost:8080/",
          "height": 206
        },
        "id": "aPERu2Rihmyt",
        "outputId": "57c439c0-2794-46d8-fb9f-6b461153a723"
      },
      "execution_count": 2,
      "outputs": [
        {
          "output_type": "execute_result",
          "data": {
            "text/html": [
              "\n",
              "  <div id=\"df-b858e72d-42ce-4f5c-b9d5-66174f518f3f\">\n",
              "    <div class=\"colab-df-container\">\n",
              "      <div>\n",
              "<style scoped>\n",
              "    .dataframe tbody tr th:only-of-type {\n",
              "        vertical-align: middle;\n",
              "    }\n",
              "\n",
              "    .dataframe tbody tr th {\n",
              "        vertical-align: top;\n",
              "    }\n",
              "\n",
              "    .dataframe thead th {\n",
              "        text-align: right;\n",
              "    }\n",
              "</style>\n",
              "<table border=\"1\" class=\"dataframe\">\n",
              "  <thead>\n",
              "    <tr style=\"text-align: right;\">\n",
              "      <th></th>\n",
              "      <th>user_id</th>\n",
              "      <th>timestamp</th>\n",
              "      <th>group</th>\n",
              "      <th>landing_page</th>\n",
              "      <th>converted</th>\n",
              "    </tr>\n",
              "  </thead>\n",
              "  <tbody>\n",
              "    <tr>\n",
              "      <th>0</th>\n",
              "      <td>851104</td>\n",
              "      <td>2017-01-21 22:11:48.556739</td>\n",
              "      <td>control</td>\n",
              "      <td>old_page</td>\n",
              "      <td>0</td>\n",
              "    </tr>\n",
              "    <tr>\n",
              "      <th>1</th>\n",
              "      <td>804228</td>\n",
              "      <td>2017-01-12 08:01:45.159739</td>\n",
              "      <td>control</td>\n",
              "      <td>old_page</td>\n",
              "      <td>0</td>\n",
              "    </tr>\n",
              "    <tr>\n",
              "      <th>2</th>\n",
              "      <td>661590</td>\n",
              "      <td>2017-01-11 16:55:06.154213</td>\n",
              "      <td>treatment</td>\n",
              "      <td>new_page</td>\n",
              "      <td>0</td>\n",
              "    </tr>\n",
              "    <tr>\n",
              "      <th>3</th>\n",
              "      <td>853541</td>\n",
              "      <td>2017-01-08 18:28:03.143765</td>\n",
              "      <td>treatment</td>\n",
              "      <td>new_page</td>\n",
              "      <td>0</td>\n",
              "    </tr>\n",
              "    <tr>\n",
              "      <th>4</th>\n",
              "      <td>864975</td>\n",
              "      <td>2017-01-21 01:52:26.210827</td>\n",
              "      <td>control</td>\n",
              "      <td>old_page</td>\n",
              "      <td>1</td>\n",
              "    </tr>\n",
              "  </tbody>\n",
              "</table>\n",
              "</div>\n",
              "      <button class=\"colab-df-convert\" onclick=\"convertToInteractive('df-b858e72d-42ce-4f5c-b9d5-66174f518f3f')\"\n",
              "              title=\"Convert this dataframe to an interactive table.\"\n",
              "              style=\"display:none;\">\n",
              "        \n",
              "  <svg xmlns=\"http://www.w3.org/2000/svg\" height=\"24px\"viewBox=\"0 0 24 24\"\n",
              "       width=\"24px\">\n",
              "    <path d=\"M0 0h24v24H0V0z\" fill=\"none\"/>\n",
              "    <path d=\"M18.56 5.44l.94 2.06.94-2.06 2.06-.94-2.06-.94-.94-2.06-.94 2.06-2.06.94zm-11 1L8.5 8.5l.94-2.06 2.06-.94-2.06-.94L8.5 2.5l-.94 2.06-2.06.94zm10 10l.94 2.06.94-2.06 2.06-.94-2.06-.94-.94-2.06-.94 2.06-2.06.94z\"/><path d=\"M17.41 7.96l-1.37-1.37c-.4-.4-.92-.59-1.43-.59-.52 0-1.04.2-1.43.59L10.3 9.45l-7.72 7.72c-.78.78-.78 2.05 0 2.83L4 21.41c.39.39.9.59 1.41.59.51 0 1.02-.2 1.41-.59l7.78-7.78 2.81-2.81c.8-.78.8-2.07 0-2.86zM5.41 20L4 18.59l7.72-7.72 1.47 1.35L5.41 20z\"/>\n",
              "  </svg>\n",
              "      </button>\n",
              "      \n",
              "  <style>\n",
              "    .colab-df-container {\n",
              "      display:flex;\n",
              "      flex-wrap:wrap;\n",
              "      gap: 12px;\n",
              "    }\n",
              "\n",
              "    .colab-df-convert {\n",
              "      background-color: #E8F0FE;\n",
              "      border: none;\n",
              "      border-radius: 50%;\n",
              "      cursor: pointer;\n",
              "      display: none;\n",
              "      fill: #1967D2;\n",
              "      height: 32px;\n",
              "      padding: 0 0 0 0;\n",
              "      width: 32px;\n",
              "    }\n",
              "\n",
              "    .colab-df-convert:hover {\n",
              "      background-color: #E2EBFA;\n",
              "      box-shadow: 0px 1px 2px rgba(60, 64, 67, 0.3), 0px 1px 3px 1px rgba(60, 64, 67, 0.15);\n",
              "      fill: #174EA6;\n",
              "    }\n",
              "\n",
              "    [theme=dark] .colab-df-convert {\n",
              "      background-color: #3B4455;\n",
              "      fill: #D2E3FC;\n",
              "    }\n",
              "\n",
              "    [theme=dark] .colab-df-convert:hover {\n",
              "      background-color: #434B5C;\n",
              "      box-shadow: 0px 1px 3px 1px rgba(0, 0, 0, 0.15);\n",
              "      filter: drop-shadow(0px 1px 2px rgba(0, 0, 0, 0.3));\n",
              "      fill: #FFFFFF;\n",
              "    }\n",
              "  </style>\n",
              "\n",
              "      <script>\n",
              "        const buttonEl =\n",
              "          document.querySelector('#df-b858e72d-42ce-4f5c-b9d5-66174f518f3f button.colab-df-convert');\n",
              "        buttonEl.style.display =\n",
              "          google.colab.kernel.accessAllowed ? 'block' : 'none';\n",
              "\n",
              "        async function convertToInteractive(key) {\n",
              "          const element = document.querySelector('#df-b858e72d-42ce-4f5c-b9d5-66174f518f3f');\n",
              "          const dataTable =\n",
              "            await google.colab.kernel.invokeFunction('convertToInteractive',\n",
              "                                                     [key], {});\n",
              "          if (!dataTable) return;\n",
              "\n",
              "          const docLinkHtml = 'Like what you see? Visit the ' +\n",
              "            '<a target=\"_blank\" href=https://colab.research.google.com/notebooks/data_table.ipynb>data table notebook</a>'\n",
              "            + ' to learn more about interactive tables.';\n",
              "          element.innerHTML = '';\n",
              "          dataTable['output_type'] = 'display_data';\n",
              "          await google.colab.output.renderOutput(dataTable, element);\n",
              "          const docLink = document.createElement('div');\n",
              "          docLink.innerHTML = docLinkHtml;\n",
              "          element.appendChild(docLink);\n",
              "        }\n",
              "      </script>\n",
              "    </div>\n",
              "  </div>\n",
              "  "
            ],
            "text/plain": [
              "   user_id                   timestamp      group landing_page  converted\n",
              "0   851104  2017-01-21 22:11:48.556739    control     old_page          0\n",
              "1   804228  2017-01-12 08:01:45.159739    control     old_page          0\n",
              "2   661590  2017-01-11 16:55:06.154213  treatment     new_page          0\n",
              "3   853541  2017-01-08 18:28:03.143765  treatment     new_page          0\n",
              "4   864975  2017-01-21 01:52:26.210827    control     old_page          1"
            ]
          },
          "metadata": {},
          "execution_count": 2
        }
      ]
    },
    {
      "cell_type": "markdown",
      "source": [
        "### Encontre o número de linhas no conjunto de dados.\n",
        "\n",
        "\n"
      ],
      "metadata": {
        "id": "gjnmh9CYhsYY"
      }
    },
    {
      "cell_type": "code",
      "source": [
        "df.shape"
      ],
      "metadata": {
        "colab": {
          "base_uri": "https://localhost:8080/"
        },
        "id": "UNoVsTBxhw6k",
        "outputId": "1807373a-44dd-4543-e0bd-606af55558d3"
      },
      "execution_count": 3,
      "outputs": [
        {
          "output_type": "execute_result",
          "data": {
            "text/plain": [
              "(294478, 5)"
            ]
          },
          "metadata": {},
          "execution_count": 3
        }
      ]
    },
    {
      "cell_type": "markdown",
      "source": [
        "### Encontre o número de usuários únicos no conjunto de dados.\n"
      ],
      "metadata": {
        "id": "xlCpbG6Shz1t"
      }
    },
    {
      "cell_type": "code",
      "source": [
        "df.user_id.nunique()"
      ],
      "metadata": {
        "colab": {
          "base_uri": "https://localhost:8080/"
        },
        "id": "kmvc-HPfh6VY",
        "outputId": "87e30c09-fb0c-4ca3-aabd-805817333e8c"
      },
      "execution_count": 5,
      "outputs": [
        {
          "output_type": "execute_result",
          "data": {
            "text/plain": [
              "290584"
            ]
          },
          "metadata": {},
          "execution_count": 5
        }
      ]
    },
    {
      "cell_type": "markdown",
      "source": [
        "### Encontre a proporção de usuários convertidos."
      ],
      "metadata": {
        "id": "bJxGZojwh-Fw"
      }
    },
    {
      "cell_type": "code",
      "source": [
        "df.query('converted == 1')['converted'].count() / df.shape[0]"
      ],
      "metadata": {
        "colab": {
          "base_uri": "https://localhost:8080/"
        },
        "id": "26Oe5ZMbh9Rg",
        "outputId": "8d06a46a-7423-4cdc-98b3-d0d2d667d736"
      },
      "execution_count": 6,
      "outputs": [
        {
          "output_type": "execute_result",
          "data": {
            "text/plain": [
              "0.11965919355605512"
            ]
          },
          "metadata": {},
          "execution_count": 6
        }
      ]
    },
    {
      "cell_type": "markdown",
      "source": [
        "### Cheque o número de vezes que `new_page` e `treatment` não se alinham."
      ],
      "metadata": {
        "id": "1krHVqOviEbP"
      }
    },
    {
      "cell_type": "code",
      "source": [
        "df.query('group == \"treatment\" and landing_page != \"new_page\"').count()[0]"
      ],
      "metadata": {
        "colab": {
          "base_uri": "https://localhost:8080/"
        },
        "id": "qvT2D0TMjFiz",
        "outputId": "6188245a-c0dc-48bb-8933-6bb9d77a9155"
      },
      "execution_count": 7,
      "outputs": [
        {
          "output_type": "execute_result",
          "data": {
            "text/plain": [
              "1965"
            ]
          },
          "metadata": {},
          "execution_count": 7
        }
      ]
    },
    {
      "cell_type": "code",
      "source": [
        "df.query('group != \"treatment\" and landing_page == \"new_page\"').count()[0]"
      ],
      "metadata": {
        "colab": {
          "base_uri": "https://localhost:8080/"
        },
        "id": "q4ZxgCSijIu2",
        "outputId": "ffe94a63-0332-4fc1-a8eb-4ad6f9b88df8"
      },
      "execution_count": 8,
      "outputs": [
        {
          "output_type": "execute_result",
          "data": {
            "text/plain": [
              "1928"
            ]
          },
          "metadata": {},
          "execution_count": 8
        }
      ]
    },
    {
      "cell_type": "code",
      "source": [
        "1965 + 1928"
      ],
      "metadata": {
        "colab": {
          "base_uri": "https://localhost:8080/"
        },
        "id": "9zkl-eyFjKdJ",
        "outputId": "d47f14be-ebdf-4605-d2af-ab61aaf0999d"
      },
      "execution_count": 9,
      "outputs": [
        {
          "output_type": "execute_result",
          "data": {
            "text/plain": [
              "3893"
            ]
          },
          "metadata": {},
          "execution_count": 9
        }
      ]
    },
    {
      "cell_type": "markdown",
      "source": [
        "### Para as linhas em que o tratamento não está alinhado com `new_page` ou o controle não está alinhado com `old_page`, não podemos ter certeza se essa linha realmente recebeu a página nova ou antiga. Por isso, vamos manipular um pouco o dataset."
      ],
      "metadata": {
        "id": "4pXLMjS-jz0c"
      }
    },
    {
      "cell_type": "code",
      "source": [
        "df2 = df.iloc[df.query('group == \"treatment\" and landing_page == \"new_page\"').index.values]"
      ],
      "metadata": {
        "id": "snH32VL1j_1v"
      },
      "execution_count": 10,
      "outputs": []
    },
    {
      "cell_type": "code",
      "source": [
        "df3 = df.iloc[df.query('group == \"control\" and landing_page == \"old_page\"').index.values]"
      ],
      "metadata": {
        "id": "GT_n1bO5kFwJ"
      },
      "execution_count": 12,
      "outputs": []
    },
    {
      "cell_type": "code",
      "source": [
        "df2 = df2.append(df3)"
      ],
      "metadata": {
        "id": "iA8Or1BHkIHu"
      },
      "execution_count": 13,
      "outputs": []
    },
    {
      "cell_type": "code",
      "source": [
        "df2[((df2['group'] == 'treatment') == (df2['landing_page'] == 'new_page')) == False].shape[0]"
      ],
      "metadata": {
        "colab": {
          "base_uri": "https://localhost:8080/"
        },
        "id": "1_vSe-pXkKHK",
        "outputId": "01946b78-cd74-4815-fa76-aee75adfd96b"
      },
      "execution_count": 14,
      "outputs": [
        {
          "output_type": "execute_result",
          "data": {
            "text/plain": [
              "0"
            ]
          },
          "metadata": {},
          "execution_count": 14
        }
      ]
    },
    {
      "cell_type": "markdown",
      "source": [
        "### O usuário `773192` está duplicado. Cheque isso e remova uma das entradas"
      ],
      "metadata": {
        "id": "_LzB_XTQjz5Z"
      }
    },
    {
      "cell_type": "code",
      "source": [
        "df2.query('user_id == 773192')"
      ],
      "metadata": {
        "colab": {
          "base_uri": "https://localhost:8080/",
          "height": 112
        },
        "id": "CDSIgCR1kRi8",
        "outputId": "8fbeb747-3e8c-4630-eb50-4a48100ff09e"
      },
      "execution_count": 17,
      "outputs": [
        {
          "output_type": "execute_result",
          "data": {
            "text/html": [
              "\n",
              "  <div id=\"df-b3c7c677-d853-4052-b3d9-b29774989d76\">\n",
              "    <div class=\"colab-df-container\">\n",
              "      <div>\n",
              "<style scoped>\n",
              "    .dataframe tbody tr th:only-of-type {\n",
              "        vertical-align: middle;\n",
              "    }\n",
              "\n",
              "    .dataframe tbody tr th {\n",
              "        vertical-align: top;\n",
              "    }\n",
              "\n",
              "    .dataframe thead th {\n",
              "        text-align: right;\n",
              "    }\n",
              "</style>\n",
              "<table border=\"1\" class=\"dataframe\">\n",
              "  <thead>\n",
              "    <tr style=\"text-align: right;\">\n",
              "      <th></th>\n",
              "      <th>user_id</th>\n",
              "      <th>timestamp</th>\n",
              "      <th>group</th>\n",
              "      <th>landing_page</th>\n",
              "      <th>converted</th>\n",
              "    </tr>\n",
              "  </thead>\n",
              "  <tbody>\n",
              "    <tr>\n",
              "      <th>1899</th>\n",
              "      <td>773192</td>\n",
              "      <td>2017-01-09 05:37:58.781806</td>\n",
              "      <td>treatment</td>\n",
              "      <td>new_page</td>\n",
              "      <td>0</td>\n",
              "    </tr>\n",
              "    <tr>\n",
              "      <th>2893</th>\n",
              "      <td>773192</td>\n",
              "      <td>2017-01-14 02:55:59.590927</td>\n",
              "      <td>treatment</td>\n",
              "      <td>new_page</td>\n",
              "      <td>0</td>\n",
              "    </tr>\n",
              "  </tbody>\n",
              "</table>\n",
              "</div>\n",
              "      <button class=\"colab-df-convert\" onclick=\"convertToInteractive('df-b3c7c677-d853-4052-b3d9-b29774989d76')\"\n",
              "              title=\"Convert this dataframe to an interactive table.\"\n",
              "              style=\"display:none;\">\n",
              "        \n",
              "  <svg xmlns=\"http://www.w3.org/2000/svg\" height=\"24px\"viewBox=\"0 0 24 24\"\n",
              "       width=\"24px\">\n",
              "    <path d=\"M0 0h24v24H0V0z\" fill=\"none\"/>\n",
              "    <path d=\"M18.56 5.44l.94 2.06.94-2.06 2.06-.94-2.06-.94-.94-2.06-.94 2.06-2.06.94zm-11 1L8.5 8.5l.94-2.06 2.06-.94-2.06-.94L8.5 2.5l-.94 2.06-2.06.94zm10 10l.94 2.06.94-2.06 2.06-.94-2.06-.94-.94-2.06-.94 2.06-2.06.94z\"/><path d=\"M17.41 7.96l-1.37-1.37c-.4-.4-.92-.59-1.43-.59-.52 0-1.04.2-1.43.59L10.3 9.45l-7.72 7.72c-.78.78-.78 2.05 0 2.83L4 21.41c.39.39.9.59 1.41.59.51 0 1.02-.2 1.41-.59l7.78-7.78 2.81-2.81c.8-.78.8-2.07 0-2.86zM5.41 20L4 18.59l7.72-7.72 1.47 1.35L5.41 20z\"/>\n",
              "  </svg>\n",
              "      </button>\n",
              "      \n",
              "  <style>\n",
              "    .colab-df-container {\n",
              "      display:flex;\n",
              "      flex-wrap:wrap;\n",
              "      gap: 12px;\n",
              "    }\n",
              "\n",
              "    .colab-df-convert {\n",
              "      background-color: #E8F0FE;\n",
              "      border: none;\n",
              "      border-radius: 50%;\n",
              "      cursor: pointer;\n",
              "      display: none;\n",
              "      fill: #1967D2;\n",
              "      height: 32px;\n",
              "      padding: 0 0 0 0;\n",
              "      width: 32px;\n",
              "    }\n",
              "\n",
              "    .colab-df-convert:hover {\n",
              "      background-color: #E2EBFA;\n",
              "      box-shadow: 0px 1px 2px rgba(60, 64, 67, 0.3), 0px 1px 3px 1px rgba(60, 64, 67, 0.15);\n",
              "      fill: #174EA6;\n",
              "    }\n",
              "\n",
              "    [theme=dark] .colab-df-convert {\n",
              "      background-color: #3B4455;\n",
              "      fill: #D2E3FC;\n",
              "    }\n",
              "\n",
              "    [theme=dark] .colab-df-convert:hover {\n",
              "      background-color: #434B5C;\n",
              "      box-shadow: 0px 1px 3px 1px rgba(0, 0, 0, 0.15);\n",
              "      filter: drop-shadow(0px 1px 2px rgba(0, 0, 0, 0.3));\n",
              "      fill: #FFFFFF;\n",
              "    }\n",
              "  </style>\n",
              "\n",
              "      <script>\n",
              "        const buttonEl =\n",
              "          document.querySelector('#df-b3c7c677-d853-4052-b3d9-b29774989d76 button.colab-df-convert');\n",
              "        buttonEl.style.display =\n",
              "          google.colab.kernel.accessAllowed ? 'block' : 'none';\n",
              "\n",
              "        async function convertToInteractive(key) {\n",
              "          const element = document.querySelector('#df-b3c7c677-d853-4052-b3d9-b29774989d76');\n",
              "          const dataTable =\n",
              "            await google.colab.kernel.invokeFunction('convertToInteractive',\n",
              "                                                     [key], {});\n",
              "          if (!dataTable) return;\n",
              "\n",
              "          const docLinkHtml = 'Like what you see? Visit the ' +\n",
              "            '<a target=\"_blank\" href=https://colab.research.google.com/notebooks/data_table.ipynb>data table notebook</a>'\n",
              "            + ' to learn more about interactive tables.';\n",
              "          element.innerHTML = '';\n",
              "          dataTable['output_type'] = 'display_data';\n",
              "          await google.colab.output.renderOutput(dataTable, element);\n",
              "          const docLink = document.createElement('div');\n",
              "          docLink.innerHTML = docLinkHtml;\n",
              "          element.appendChild(docLink);\n",
              "        }\n",
              "      </script>\n",
              "    </div>\n",
              "  </div>\n",
              "  "
            ],
            "text/plain": [
              "      user_id                   timestamp      group landing_page  converted\n",
              "1899   773192  2017-01-09 05:37:58.781806  treatment     new_page          0\n",
              "2893   773192  2017-01-14 02:55:59.590927  treatment     new_page          0"
            ]
          },
          "metadata": {},
          "execution_count": 17
        }
      ]
    },
    {
      "cell_type": "code",
      "source": [
        "df2.drop(1899, inplace=True)"
      ],
      "metadata": {
        "id": "3AHXH-djkgtE"
      },
      "execution_count": 18,
      "outputs": []
    },
    {
      "cell_type": "markdown",
      "source": [
        "### Qual é a probabilidade de um indivíduo converter, independentemente da página que recebe?"
      ],
      "metadata": {
        "id": "jc7qWqrQklI3"
      }
    },
    {
      "cell_type": "code",
      "source": [
        "df2.converted.mean()"
      ],
      "metadata": {
        "colab": {
          "base_uri": "https://localhost:8080/"
        },
        "id": "7gm-5aUFkmJS",
        "outputId": "89923f13-13cd-4abf-b6a2-4b3c417d5848"
      },
      "execution_count": 19,
      "outputs": [
        {
          "output_type": "execute_result",
          "data": {
            "text/plain": [
              "0.11959708724499628"
            ]
          },
          "metadata": {},
          "execution_count": 19
        }
      ]
    },
    {
      "cell_type": "markdown",
      "source": [
        "### Dado que um indivíduo estava no grupo de controle, qual é a probabilidade de conversão?"
      ],
      "metadata": {
        "id": "DZoZ8Hsykyjd"
      }
    },
    {
      "cell_type": "code",
      "source": [
        "control_convert = df2.query('group == \"control\"').converted.mean()\n",
        "control_convert"
      ],
      "metadata": {
        "colab": {
          "base_uri": "https://localhost:8080/"
        },
        "id": "CzfE5fQFk0Gx",
        "outputId": "b8b6782e-d415-46e3-a4f5-bb22a3d5de82"
      },
      "execution_count": 20,
      "outputs": [
        {
          "output_type": "execute_result",
          "data": {
            "text/plain": [
              "0.1203863045004612"
            ]
          },
          "metadata": {},
          "execution_count": 20
        }
      ]
    },
    {
      "cell_type": "markdown",
      "source": [
        "### Dado que um indivíduo estava no grupo de tratamento, qual é a probabilidade de conversão?"
      ],
      "metadata": {
        "id": "aEvOWzzEk6UU"
      }
    },
    {
      "cell_type": "code",
      "source": [
        "treatment_convert = df2.query('group == \"treatment\"').converted.mean()\n",
        "treatment_convert"
      ],
      "metadata": {
        "colab": {
          "base_uri": "https://localhost:8080/"
        },
        "id": "VA7OVhtVk7J5",
        "outputId": "b3228533-a3da-4224-b850-0f5d7fe32aab"
      },
      "execution_count": 21,
      "outputs": [
        {
          "output_type": "execute_result",
          "data": {
            "text/plain": [
              "0.11880806551510564"
            ]
          },
          "metadata": {},
          "execution_count": 21
        }
      ]
    },
    {
      "cell_type": "markdown",
      "source": [
        "### Qual é a probabilidade de que um indivíduo tenha recebido a nova página?"
      ],
      "metadata": {
        "id": "R39QLgxRlIZv"
      }
    },
    {
      "cell_type": "code",
      "source": [
        "df2.query('landing_page == \"new_page\"').count()[0] / df2.shape[0]"
      ],
      "metadata": {
        "colab": {
          "base_uri": "https://localhost:8080/"
        },
        "id": "LJzst7jrlHdi",
        "outputId": "70787a24-a8ee-4391-94a2-f25e773cd4cd"
      },
      "execution_count": 22,
      "outputs": [
        {
          "output_type": "execute_result",
          "data": {
            "text/plain": [
              "0.5000619442226688"
            ]
          },
          "metadata": {},
          "execution_count": 22
        }
      ]
    },
    {
      "cell_type": "markdown",
      "source": [
        "### Qual é a probabilidade de que um indivíduo tenha recebido a página antiga?"
      ],
      "metadata": {
        "id": "6aHgHHsJlPcC"
      }
    },
    {
      "cell_type": "code",
      "source": [
        "1 - 0.5000619442226688"
      ],
      "metadata": {
        "colab": {
          "base_uri": "https://localhost:8080/"
        },
        "id": "9y4rpw8alQS2",
        "outputId": "15ea9c04-8ac9-41c9-e4a2-3edbb2c77afe"
      },
      "execution_count": 23,
      "outputs": [
        {
          "output_type": "execute_result",
          "data": {
            "text/plain": [
              "0.4999380557773312"
            ]
          },
          "metadata": {},
          "execution_count": 23
        }
      ]
    },
    {
      "cell_type": "markdown",
      "source": [
        "Observe que, devido ao carimbo de data/hora associado a cada evento, você pode tecnicamente executar um teste de hipótese continuamente à medida que cada observação é observada.\n",
        "\n",
        "No entanto, a pergunta difícil é: você para assim que uma página é considerada significativamente melhor que outra ou precisa acontecer de forma consistente por um determinado período de tempo? Quanto tempo você corre para renderizar uma decisão de que nenhuma página é melhor que a outra?\n",
        "\n",
        "Essas perguntas são as partes difíceis associadas aos testes A/B em geral."
      ],
      "metadata": {
        "id": "XnXU7LkflaA4"
      }
    },
    {
      "cell_type": "markdown",
      "source": [
        "Por enquanto, considere que você precisa tomar a decisão apenas com base em todos os dados fornecidos. Se você quiser supor que a página antiga é melhor, a menos que a nova página seja definitivamente melhor com uma taxa de erro Tipo I de 5% (ou seja, `0,05`), quais devem ser suas hipóteses nula e alternativa? Você pode declarar sua hipótese em termos de palavras ou em termos de e , que são as taxas convertidas para as páginas antigas e novas."
      ],
      "metadata": {
        "id": "o2HuZNUYleIE"
      }
    },
    {
      "cell_type": "markdown",
      "source": [
        "![](https://miro.medium.com/max/592/1*ZfVY8b4r8UjUprgOe7ITVA.jpeg)"
      ],
      "metadata": {
        "id": "6dghzwVilktF"
      }
    },
    {
      "cell_type": "markdown",
      "source": [
        "Assuma sob a hipótese nula, `p_old` e `p_new` ambos têm taxas de sucesso \"verdadeiras\" iguais à taxa de sucesso convertida, independentemente da página - ou seja, e são iguais. Além disso, suponha que sejam iguais à taxa convertida em ab_data.csv, independentemente da página."
      ],
      "metadata": {
        "id": "-MnWB52hp7Mx"
      }
    },
    {
      "cell_type": "markdown",
      "source": [
        "Use um tamanho de amostra para cada página igual aos de ab_data.csv.\n",
        "\n",
        "Execute a distribuição de amostragem para a diferença na conversão entre as duas páginas em mais de 10.000 iterações de cálculo de uma estimativa a partir do nulo.\n",
        "\n",
        "Use as células abaixo para fornecer as partes necessárias desta simulação. Se isso não fizer todo o sentido agora, não se preocupe - você trabalhará com os problemas abaixo para concluir isso."
      ],
      "metadata": {
        "id": "uDLYKgJRqFN9"
      }
    },
    {
      "cell_type": "code",
      "source": [
        "df2.landing_page.value_counts()"
      ],
      "metadata": {
        "colab": {
          "base_uri": "https://localhost:8080/"
        },
        "id": "CA-ANg5ilRj0",
        "outputId": "870e161a-fbe3-4e1b-b718-de29efb40f4f"
      },
      "execution_count": 24,
      "outputs": [
        {
          "output_type": "execute_result",
          "data": {
            "text/plain": [
              "new_page    145310\n",
              "old_page    145274\n",
              "Name: landing_page, dtype: int64"
            ]
          },
          "metadata": {},
          "execution_count": 24
        }
      ]
    },
    {
      "cell_type": "markdown",
      "source": [
        "### Qual é a taxa de conversão `p_new` para sob a nula?"
      ],
      "metadata": {
        "id": "07dDX4YPqN2r"
      }
    },
    {
      "cell_type": "code",
      "source": [
        "p_new = df2.converted.mean()\n",
        "p_new"
      ],
      "metadata": {
        "colab": {
          "base_uri": "https://localhost:8080/"
        },
        "id": "2oy3cyYTqa1g",
        "outputId": "3be6a3cb-5e42-4d5e-8ea3-42548cb72615"
      },
      "execution_count": 25,
      "outputs": [
        {
          "output_type": "execute_result",
          "data": {
            "text/plain": [
              "0.11959708724499628"
            ]
          },
          "metadata": {},
          "execution_count": 25
        }
      ]
    },
    {
      "cell_type": "markdown",
      "source": [
        "### Qual é a taxa de conversão `p_old` para sob a nula?"
      ],
      "metadata": {
        "id": "9tsh-bwJqX7G"
      }
    },
    {
      "cell_type": "code",
      "source": [
        "p_old = p_new\n",
        "p_old"
      ],
      "metadata": {
        "colab": {
          "base_uri": "https://localhost:8080/"
        },
        "id": "gsUbLYboqSJr",
        "outputId": "f9789958-472d-4872-d368-e23810073722"
      },
      "execution_count": 26,
      "outputs": [
        {
          "output_type": "execute_result",
          "data": {
            "text/plain": [
              "0.11959708724499628"
            ]
          },
          "metadata": {},
          "execution_count": 26
        }
      ]
    },
    {
      "cell_type": "markdown",
      "source": [
        "### Agora vamos calcular `n_new` e `n_old`"
      ],
      "metadata": {
        "id": "NUIfCGPVqgca"
      }
    },
    {
      "cell_type": "code",
      "source": [
        "n_new = df2.query('landing_page == \"new_page\"').count()[0] \n",
        "n_new"
      ],
      "metadata": {
        "colab": {
          "base_uri": "https://localhost:8080/"
        },
        "id": "-GaBxZnRqjbo",
        "outputId": "f82d536a-17a3-48c1-e151-3544028695ff"
      },
      "execution_count": 27,
      "outputs": [
        {
          "output_type": "execute_result",
          "data": {
            "text/plain": [
              "145310"
            ]
          },
          "metadata": {},
          "execution_count": 27
        }
      ]
    },
    {
      "cell_type": "code",
      "source": [
        "n_old = df2.query('landing_page == \"old_page\"').count()[0]\n",
        "n_old"
      ],
      "metadata": {
        "colab": {
          "base_uri": "https://localhost:8080/"
        },
        "id": "-TiBeX6ZqlBk",
        "outputId": "f7dd7ada-dc77-44db-dbaf-1f72beea4b12"
      },
      "execution_count": 28,
      "outputs": [
        {
          "output_type": "execute_result",
          "data": {
            "text/plain": [
              "145274"
            ]
          },
          "metadata": {},
          "execution_count": 28
        }
      ]
    },
    {
      "cell_type": "markdown",
      "source": [
        "### Agora vamos utilizar uma biblioteca para calcular o p-valor"
      ],
      "metadata": {
        "id": "_4TP2CJyq6L8"
      }
    },
    {
      "cell_type": "code",
      "source": [
        "import statsmodels.api as sm\n",
        "\n",
        "# o número de conversões para cada página\n",
        "convert_old = df2.query('landing_page == \"old_page\"').converted.sum()  # old page == control group\n",
        "convert_new = df2.query('landing_page == \"new_page\"').converted.sum()  # new page == treatment group\n",
        "# o número de indivíduos que receberam cada página\n",
        "n_old = df2.query('landing_page == \"old_page\"')['user_id'].nunique()\n",
        "n_new = df2.query('landing_page == \"new_page\"')['user_id'].nunique()"
      ],
      "metadata": {
        "colab": {
          "base_uri": "https://localhost:8080/"
        },
        "id": "tWF8Bti6q9Kh",
        "outputId": "f2469ba8-0aca-428f-cbdc-8228ab10a02a"
      },
      "execution_count": 29,
      "outputs": [
        {
          "output_type": "stream",
          "name": "stderr",
          "text": [
            "/usr/local/lib/python3.7/dist-packages/statsmodels/tools/_testing.py:19: FutureWarning: pandas.util.testing is deprecated. Use the functions in the public API at pandas.testing instead.\n",
            "  import pandas.util.testing as tm\n"
          ]
        }
      ]
    },
    {
      "cell_type": "markdown",
      "source": [
        "### Agora use `stats.proportions_ztest` para calcular sua estatística de teste e valor-p. "
      ],
      "metadata": {
        "id": "DXoLuRJ8rI9R"
      }
    },
    {
      "cell_type": "code",
      "source": [
        "z_score, p_value = sm.stats.proportions_ztest([convert_new, convert_old], [n_new, n_old], alternative = 'larger')"
      ],
      "metadata": {
        "id": "W0SgVt1QrLwN"
      },
      "execution_count": 30,
      "outputs": []
    },
    {
      "cell_type": "code",
      "source": [
        "from scipy.stats import norm\n",
        "\n",
        "norm.cdf(z_score) # Nos diz o quão significativo é o nosso z-score"
      ],
      "metadata": {
        "colab": {
          "base_uri": "https://localhost:8080/"
        },
        "id": "AOTY3esTrURR",
        "outputId": "4c4060f5-1ddb-40c8-bfe7-6b7e2c9fe74d"
      },
      "execution_count": 31,
      "outputs": [
        {
          "output_type": "execute_result",
          "data": {
            "text/plain": [
              "0.09494168724097551"
            ]
          },
          "metadata": {},
          "execution_count": 31
        }
      ]
    },
    {
      "cell_type": "code",
      "source": [
        "norm.ppf(1-(0.05/2)) # Nos diz qual é o nosso valor crítico com 95% de confiança"
      ],
      "metadata": {
        "colab": {
          "base_uri": "https://localhost:8080/"
        },
        "id": "HGo9NdizrbVa",
        "outputId": "92c7a492-c0e3-4ea2-fc79-17425171a513"
      },
      "execution_count": 32,
      "outputs": [
        {
          "output_type": "execute_result",
          "data": {
            "text/plain": [
              "1.959963984540054"
            ]
          },
          "metadata": {},
          "execution_count": 32
        }
      ]
    },
    {
      "cell_type": "markdown",
      "source": [
        "### O que o z-score e o p-value que você calculou na pergunta anterior significam para as taxas de conversão das páginas antigas e novas?"
      ],
      "metadata": {
        "id": "KLzjWGBmrgZI"
      }
    },
    {
      "cell_type": "code",
      "source": [
        "#O valor p calculado usando proporções_ztest é 0,9. Como sabemos que 90% dos valores da nossa distribuição nula caem para a direita ou estão acima da nossa média real nas partes j e k. \n",
        "#Nesse caso, falharíamos em rejeitar a hipótese nula como 0,9 > 0,05.\n",
        "\n",
        "#Em outras palavras, como o z-score de -1,3109241984234394 não excede o valor crítico de 0,9050583127590245, \n",
        "#não rejeitaríamos a hipótese nula de que a página antiga tem uma taxa de conversão melhor ou igual que a nova página."
      ],
      "metadata": {
        "id": "vSFct60crl5X"
      },
      "execution_count": 34,
      "outputs": []
    },
    {
      "cell_type": "code",
      "source": [
        ""
      ],
      "metadata": {
        "id": "sFDbzdYCrrY_"
      },
      "execution_count": null,
      "outputs": []
    }
  ]
}